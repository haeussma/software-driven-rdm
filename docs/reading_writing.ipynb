{
 "cells": [
  {
   "attachments": {},
   "cell_type": "markdown",
   "metadata": {},
   "source": [
    "# Reading and writing: instantiate and serialize the data model\n",
    "\n",
    "## Load a data model from markdown\n",
    "\n",
    "After defining a data model in a markdown document, the corresponding ```DataModel``` is created with the ```from_markdown``` method."
   ]
  },
  {
   "cell_type": "code",
   "execution_count": 6,
   "metadata": {},
   "outputs": [],
   "source": [
    "import sdRDM"
   ]
  },
  {
   "cell_type": "code",
   "execution_count": 7,
   "metadata": {},
   "outputs": [],
   "source": [
    "markdown_path = \"experiment_data_model.md\"\n",
    "datamodel = sdRDM.DataModel.from_markdown(path=markdown_path)"
   ]
  },
  {
   "attachments": {},
   "cell_type": "markdown",
   "metadata": {},
   "source": [
    "## Load a data model from GitHub\n",
    "\n",
    "Alternativiely, a markdown file from a HitHub repository can be used to load the respective data model. Therefore, the regarding GitHub repository needs to contain a 'specifications' folder, containing a markdown file."
   ]
  },
  {
   "cell_type": "code",
   "execution_count": 8,
   "metadata": {},
   "outputs": [],
   "source": [
    "repo_url = \"https://github.com/JR-1991/sdrdm-template.git\"\n",
    "github_datamodel = sdRDM.DataModel.from_git(url=repo_url)\n",
    "#TODO not working\n",
    "\n"
   ]
  },
  {
   "attachments": {},
   "cell_type": "markdown",
   "metadata": {},
   "source": [
    "The ```DataModel``` defined in the markdown document is now loaded as an objects and can be visualized with the ```visualize_tree()``` method.\n",
    "Therefore, the root object of the datamodel (in this case 'Experiment') needs to be specified."
   ]
  },
  {
   "cell_type": "code",
   "execution_count": 9,
   "metadata": {},
   "outputs": [
    {
     "name": "stdout",
     "output_type": "stream",
     "text": [
      "Experiment\n",
      "├── id\n",
      "├── title\n",
      "└── measurements\n",
      "    └── 0\n",
      "        ├── id\n",
      "        ├── creator\n",
      "        │   ├── id\n",
      "        │   ├── first_name\n",
      "        │   ├── last_name\n",
      "        │   └── email_address\n",
      "        ├── time_stamp\n",
      "        ├── data\n",
      "        └── data_unit\n",
      "            └── id\n"
     ]
    }
   ],
   "source": [
    "datamodel.Experiment.visualize_tree()"
   ]
  },
  {
   "attachments": {},
   "cell_type": "markdown",
   "metadata": {},
   "source": [
    "## Instantiate the data model\n",
    "\n",
    "Objects from the data model can be instatiated as every other Python class. Let's create a new instance of the 'Experiment' data model."
   ]
  },
  {
   "cell_type": "code",
   "execution_count": 11,
   "metadata": {},
   "outputs": [],
   "source": [
    "experiment = datamodel.Experiment(title=\"Bose-Einstein condensation\")\n",
    "\n",
    "creator = datamodel.Creator(first_name=\"Max\", \n",
    "                            last_name=\"Häussler\",\n",
    "                            email_address=\"max.haeussler@ibtb.uni-stuttgart.de\")"
   ]
  },
  {
   "attachments": {},
   "cell_type": "markdown",
   "metadata": {},
   "source": [
    "\n",
    "\n",
    "## Loading the data model\n",
    "\n",
    "1. from markdown\n",
    "2. from github\n",
    "\n",
    "## Loading a serialized data model\n",
    "\n",
    "parser from \n",
    "- github\n",
    "- path\n",
    "    - json\n",
    "        - string\n",
    "        - object\n",
    "    - xml\n",
    "        - string\n",
    "        - object\n",
    "    - hdf5\n",
    "- xml\n",
    "\n"
   ]
  },
  {
   "attachments": {},
   "cell_type": "markdown",
   "metadata": {},
   "source": [
    "path (str): Path to the file to load.\n",
    "            data (Dict): Dataset in dict format.\n",
    "            root_name (str): Name of the root element. Defaults to 'Root'\n",
    "            attr_replace (str): When the given data model keys contain a pattern to replace for readability. Defaults to empty string."
   ]
  }
 ],
 "metadata": {
  "kernelspec": {
   "display_name": "sdRDM",
   "language": "python",
   "name": "python3"
  },
  "language_info": {
   "codemirror_mode": {
    "name": "ipython",
    "version": 3
   },
   "file_extension": ".py",
   "mimetype": "text/x-python",
   "name": "python",
   "nbconvert_exporter": "python",
   "pygments_lexer": "ipython3",
   "version": "3.11.3"
  },
  "orig_nbformat": 4
 },
 "nbformat": 4,
 "nbformat_minor": 2
}
