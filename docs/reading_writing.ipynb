{
 "cells": [
  {
   "attachments": {},
   "cell_type": "markdown",
   "metadata": {},
   "source": [
    "# Reading and writing: instanciate and serialize the data model\n",
    "\n",
    "## Load a data model from markdown\n",
    "\n",
    "After defining a data model in a markdown document, the corresponding ```DataModel``` is created with the ```from_markdown``` method."
   ]
  },
  {
   "cell_type": "code",
   "execution_count": 28,
   "metadata": {},
   "outputs": [],
   "source": [
    "import sdRDM"
   ]
  },
  {
   "cell_type": "code",
   "execution_count": 29,
   "metadata": {},
   "outputs": [],
   "source": [
    "markdown_path = \"experiment_data_model.md\"\n",
    "datamodel = sdRDM.DataModel.from_markdown(path=markdown_path)"
   ]
  },
  {
   "attachments": {},
   "cell_type": "markdown",
   "metadata": {},
   "source": [
    "## Load a data model from GitHub\n",
    "\n",
    "Alternativiely, a markdown file from a HitHub repository can be used to load the respective data model. Therefore, the regarding GitHub repository needs to contain a 'specifications' folder, containing a markdown file."
   ]
  },
  {
   "cell_type": "code",
   "execution_count": 30,
   "metadata": {},
   "outputs": [],
   "source": [
    "repo_url = \"https://github.com/JR-1991/sdrdm-template.git\"\n",
    "github_datamodel = sdRDM.DataModel.from_git(url=repo_url)\n",
    "#TODO not working\n",
    "\n"
   ]
  },
  {
   "attachments": {},
   "cell_type": "markdown",
   "metadata": {},
   "source": [
    "The ```DataModel``` defined in the markdown document is now loaded as an objects and can be visualized with the ```visualize_tree()``` method.\n",
    "Therefore, the root object of the datamodel (in this case 'Experiment') needs to be specified."
   ]
  },
  {
   "cell_type": "code",
   "execution_count": 31,
   "metadata": {},
   "outputs": [
    {
     "name": "stdout",
     "output_type": "stream",
     "text": [
      "Experiment\n",
      "├── id\n",
      "├── title\n",
      "└── measurements\n",
      "    └── 0\n",
      "        ├── id\n",
      "        ├── creator\n",
      "        │   ├── id\n",
      "        │   ├── first_name\n",
      "        │   ├── last_name\n",
      "        │   └── email_address\n",
      "        ├── time_stamp\n",
      "        ├── data\n",
      "        └── data_unit\n",
      "            └── id\n"
     ]
    }
   ],
   "source": [
    "datamodel.Experiment.visualize_tree()"
   ]
  },
  {
   "attachments": {},
   "cell_type": "markdown",
   "metadata": {},
   "source": [
    "## Instanciate the data model\n",
    "\n",
    "Objects from the data model can be instaciated as every other Python class. Let's create a new instance of the 'Experiment' data model."
   ]
  },
  {
   "cell_type": "code",
   "execution_count": 33,
   "metadata": {},
   "outputs": [
    {
     "ename": "ValidationError",
     "evalue": "1 validation error for Creator\nemail_address\n  List element of type '<class 'str'>' cannot be added. Expected type '<class 'pydantic.networks.EmailStr'>' (type=type_error)",
     "output_type": "error",
     "traceback": [
      "\u001b[0;31m---------------------------------------------------------------------------\u001b[0m",
      "\u001b[0;31mValidationError\u001b[0m                           Traceback (most recent call last)",
      "Cell \u001b[0;32mIn[33], line 3\u001b[0m\n\u001b[1;32m      1\u001b[0m experiment \u001b[39m=\u001b[39m datamodel\u001b[39m.\u001b[39mExperiment(title\u001b[39m=\u001b[39m\u001b[39m\"\u001b[39m\u001b[39mGravimetric experiment\u001b[39m\u001b[39m\"\u001b[39m)\n\u001b[0;32m----> 3\u001b[0m creator \u001b[39m=\u001b[39m datamodel\u001b[39m.\u001b[39;49mCreator(first_name\u001b[39m=\u001b[39;49m\u001b[39m\"\u001b[39;49m\u001b[39mMax\u001b[39;49m\u001b[39m\"\u001b[39;49m, \n\u001b[1;32m      4\u001b[0m                             last_name\u001b[39m=\u001b[39;49m\u001b[39m\"\u001b[39;49m\u001b[39mHäussler\u001b[39;49m\u001b[39m\"\u001b[39;49m,\n\u001b[1;32m      5\u001b[0m                             email_address\u001b[39m=\u001b[39;49m\u001b[39m\"\u001b[39;49m\u001b[39mmax.haeussler@ibtb.uni-stuttgart.de\u001b[39;49m\u001b[39m\"\u001b[39;49m)\n",
      "File \u001b[0;32m~/Documents/GitHub/software-driven-rdm/sdRDM/base/datamodel.py:62\u001b[0m, in \u001b[0;36mDataModel.__init__\u001b[0;34m(self, **data)\u001b[0m\n\u001b[1;32m     61\u001b[0m \u001b[39mdef\u001b[39;00m \u001b[39m__init__\u001b[39m(\u001b[39mself\u001b[39m, \u001b[39m*\u001b[39m\u001b[39m*\u001b[39mdata):\n\u001b[0;32m---> 62\u001b[0m     \u001b[39msuper\u001b[39;49m()\u001b[39m.\u001b[39;49m\u001b[39m__init__\u001b[39;49m(\u001b[39m*\u001b[39;49m\u001b[39m*\u001b[39;49mdata)\n\u001b[1;32m     64\u001b[0m     \u001b[39mfor\u001b[39;00m field, value \u001b[39min\u001b[39;00m \u001b[39mself\u001b[39m\u001b[39m.\u001b[39m\u001b[39m__dict__\u001b[39m\u001b[39m.\u001b[39mitems():\n\u001b[1;32m     65\u001b[0m         \u001b[39mif\u001b[39;00m \u001b[39mnot\u001b[39;00m \u001b[39misinstance\u001b[39m(value, ListPlus):\n",
      "File \u001b[0;32m~/miniconda3/envs/sdrdm/lib/python3.11/site-packages/pydantic/main.py:341\u001b[0m, in \u001b[0;36mpydantic.main.BaseModel.__init__\u001b[0;34m()\u001b[0m\n",
      "\u001b[0;31mValidationError\u001b[0m: 1 validation error for Creator\nemail_address\n  List element of type '<class 'str'>' cannot be added. Expected type '<class 'pydantic.networks.EmailStr'>' (type=type_error)"
     ]
    }
   ],
   "source": [
    "experiment = datamodel.Experiment(title=\"Gravimetric experiment\")\n",
    "\n",
    "creator = datamodel.Creator(first_name=\"Max\", \n",
    "                            last_name=\"Häussler\",\n",
    "                            email_address=\"max.haeussler@ibtb.uni-stuttgart.de\")"
   ]
  },
  {
   "attachments": {},
   "cell_type": "markdown",
   "metadata": {},
   "source": [
    "\n",
    "\n",
    "## Loading the data model\n",
    "\n",
    "1. from markdown\n",
    "2. from github\n",
    "\n",
    "## Loading a serialized data model\n",
    "\n",
    "parser from \n",
    "- github\n",
    "- path\n",
    "    - json\n",
    "        - string\n",
    "        - object\n",
    "    - xml\n",
    "        - string\n",
    "        - object\n",
    "    - hdf5\n",
    "- xml\n",
    "\n"
   ]
  },
  {
   "attachments": {},
   "cell_type": "markdown",
   "metadata": {},
   "source": [
    "path (str): Path to the file to load.\n",
    "            data (Dict): Dataset in dict format.\n",
    "            root_name (str): Name of the root element. Defaults to 'Root'\n",
    "            attr_replace (str): When the given data model keys contain a pattern to replace for readability. Defaults to empty string."
   ]
  }
 ],
 "metadata": {
  "kernelspec": {
   "display_name": "sdRDM",
   "language": "python",
   "name": "python3"
  },
  "language_info": {
   "codemirror_mode": {
    "name": "ipython",
    "version": 3
   },
   "file_extension": ".py",
   "mimetype": "text/x-python",
   "name": "python",
   "nbconvert_exporter": "python",
   "pygments_lexer": "ipython3",
   "version": "3.11.3"
  },
  "orig_nbformat": 4
 },
 "nbformat": 4,
 "nbformat_minor": 2
}
