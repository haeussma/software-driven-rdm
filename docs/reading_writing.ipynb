{
 "cells": [
  {
   "attachments": {},
   "cell_type": "markdown",
   "metadata": {},
   "source": [
    "# Reading and writing: instanciating and serialising of a data model\n",
    "\n",
    "\n",
    "After defining a data model in a markdown document, the corresponding ```DataModel``` is created with ```from_markdown``` method.\n",
    "\n"
   ]
  },
  {
   "cell_type": "code",
   "execution_count": 1,
   "metadata": {},
   "outputs": [],
   "source": [
    "import sdRDM"
   ]
  },
  {
   "cell_type": "code",
   "execution_count": null,
   "metadata": {},
   "outputs": [],
   "source": []
  },
  {
   "attachments": {},
   "cell_type": "markdown",
   "metadata": {},
   "source": [
    "\n",
    "\n",
    "## Loading the data model\n",
    "\n",
    "1. from markdown\n",
    "2. from github\n",
    "\n",
    "## Loading a serialized data model\n",
    "\n",
    "parser from \n",
    "- github\n",
    "- path\n",
    "    - json\n",
    "        - string\n",
    "        - object\n",
    "    - xml\n",
    "        - string\n",
    "        - object\n",
    "    - hdf5\n",
    "- xml\n",
    "\n"
   ]
  },
  {
   "attachments": {},
   "cell_type": "markdown",
   "metadata": {},
   "source": [
    "path (str): Path to the file to load.\n",
    "            data (Dict): Dataset in dict format.\n",
    "            root_name (str): Name of the root element. Defaults to 'Root'\n",
    "            attr_replace (str): When the given data model keys contain a pattern to replace for readability. Defaults to empty string."
   ]
  }
 ],
 "metadata": {
  "kernelspec": {
   "display_name": "sdRDM",
   "language": "python",
   "name": "python3"
  },
  "language_info": {
   "codemirror_mode": {
    "name": "ipython",
    "version": 3
   },
   "file_extension": ".py",
   "mimetype": "text/x-python",
   "name": "python",
   "nbconvert_exporter": "python",
   "pygments_lexer": "ipython3",
   "version": "3.10.9"
  },
  "orig_nbformat": 4
 },
 "nbformat": 4,
 "nbformat_minor": 2
}
