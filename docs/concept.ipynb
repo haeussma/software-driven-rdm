{
 "cells": [
  {
   "attachments": {},
   "cell_type": "markdown",
   "metadata": {},
   "source": [
    "# Concept\n",
    "\n",
    "Conventional reasearch data management is focused on formats instead of the data model, which actually represents the data and its connections.\n",
    "sdRDM is all about the underlying data model of your data. \n",
    "\n",
    "Get started with sdRDM by running the following command\n",
    "```python\n",
    "# Using PyPI\n",
    "python -m pip install sdRDM\n",
    "```\n",
    "\n",
    "\n",
    "## Core features\n",
    "\n"
   ]
  },
  {
   "cell_type": "code",
   "execution_count": 1,
   "metadata": {},
   "outputs": [
    {
     "name": "stdout",
     "output_type": "stream",
     "text": [
      "8\n"
     ]
    }
   ],
   "source": []
  }
 ],
 "metadata": {
  "kernelspec": {
   "display_name": "sdRDM",
   "language": "python",
   "name": "python3"
  },
  "language_info": {
   "codemirror_mode": {
    "name": "ipython",
    "version": 3
   },
   "file_extension": ".py",
   "mimetype": "text/x-python",
   "name": "python",
   "nbconvert_exporter": "python",
   "pygments_lexer": "ipython3",
   "version": "3.10.9"
  },
  "orig_nbformat": 4
 },
 "nbformat": 4,
 "nbformat_minor": 2
}
